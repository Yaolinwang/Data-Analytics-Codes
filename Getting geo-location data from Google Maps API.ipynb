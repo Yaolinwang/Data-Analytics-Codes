{
 "cells": [
  {
   "cell_type": "code",
   "execution_count": 60,
   "metadata": {
    "collapsed": false
   },
   "outputs": [],
   "source": [
    "# Main Function    \n",
    "def get_geolocation_data(address_string,format=\"XML\",country=\"ALL\",types=True):\n",
    "    address='_'.join(address_string.split(' '))\n",
    "    import requests\n",
    "    if format==\"JSON\":\n",
    "        data_return=data_json(address,country,types)\n",
    "        return data_return\n",
    "    elif format==\"XML\":\n",
    "        data_return=data_XML(address,country,types)\n",
    "        return data_return\n",
    "    else: return None\n",
    "    \n",
    "# Extracting the information from JSON\n",
    "def data_json(address,country,types):\n",
    "    import requests\n",
    "    url=\"https://maps.googleapis.com/maps/api/geocode/json?address=%s\" % (address)\n",
    "    response=requests.get(url)\n",
    "    if response.status_code==200:\n",
    "        data_json=response.json()\n",
    "        if country==\"ALL\":\n",
    "            data_return=[]\n",
    "            for i in range(len(data_json['results'])): \n",
    "                if types==True:\n",
    "                    data_return.append((data_json['results'][i]['formatted_address'],data_json['results'][i]['geometry']['location']['lat'],data_json['results'][i]['geometry']['location']['lng'],data_json['results'][i]['types']))\n",
    "                else:data_return.append((data_json['results'][i]['formatted_address'],data_json['results'][i]['geometry']['location']['lat'],data_json['results'][i]['geometry']['location']['lng']))\n",
    "        else:\n",
    "            data_return=[]\n",
    "            for i in range(len(data_json['results'])): \n",
    "                if data_json['results'][i]['address_components'][6]['long_name']==country:\n",
    "                    if types==True:data_return.append((data_json['results'][i]['formatted_address'],data_json['results'][i]['geometry']['location']['lat'],data_json['results'][i]['geometry']['location']['lng'],data_json['results'][i]['types']))\n",
    "                    else:data_return.append((data_json['results'][i]['formatted_address'],data_json['results'][i]['geometry']['location']['lat'],data_json['results'][i]['geometry']['location']['lng']))\n",
    "    return data_return\n",
    "\n",
    "# Extracting the information from XML\n",
    "def data_XML(address,country,types):\n",
    "    import requests\n",
    "    url=\"https://maps.googleapis.com/maps/api/geocode/xml?address=%s\" % (address)\n",
    "    response=requests.get(url)\n",
    "    data=response.content\n",
    "    from lxml import etree\n",
    "    root = etree.XML(data)\n",
    "    etree.tostring(root, pretty_print=True).decode(\"utf-8\")\n",
    "    results=root.findall('result')\n",
    "    data_return=[]\n",
    "    for thing in results:\n",
    "        formatted_address=thing.find('formatted_address').text\n",
    "        lat=thing.find('geometry/location/lat').text\n",
    "        lng=thing.find('geometry/location/lng').text\n",
    "        type_0=[]\n",
    "        for type_1 in thing.findall('type'):\n",
    "            type_0.append(type_1.text)\n",
    "        for type_country in thing.findall('address_component'):\n",
    "            if type_country.find('type').text=='country':\n",
    "                country_single=type_country.find('long_name').text\n",
    "        result_single=(formatted_address,lat,lng,type_0,country_single)\n",
    "        data_return.append(result_single)\n",
    "    if country==\"ALL\":\n",
    "        if types==True:\n",
    "            return data_return\n",
    "        else:\n",
    "            data_notype=[]\n",
    "            for thing in data_return:\n",
    "                data_notype.append(thing[:-2])\n",
    "            return data_notype\n",
    "    else:\n",
    "        data_onecountry=[]\n",
    "        for thing in data_return:\n",
    "            if thing[-1]==country:\n",
    "                if types==True:\n",
    "                    data_onecountry.append(thing)\n",
    "                else:data_onecountry.append(thing[:-2])\n",
    "                return data_onecountry    "
   ]
  },
  {
   "cell_type": "code",
   "execution_count": 61,
   "metadata": {
    "collapsed": false
   },
   "outputs": [
    {
     "data": {
      "text/plain": [
       "[('116 St - Columbia University, New York, NY 10027, USA',\n",
       "  40.807722,\n",
       "  -73.96410999999999,\n",
       "  ['establishment', 'point_of_interest', 'subway_station', 'transit_station']),\n",
       " ('Schapiro Center, New York, NY 10027, USA',\n",
       "  40.8097368,\n",
       "  -73.9608715,\n",
       "  ['premise'])]"
      ]
     },
     "execution_count": 61,
     "metadata": {},
     "output_type": "execute_result"
    }
   ],
   "source": [
    "get_geolocation_data(\"Columbia University, New York, NY\",format=\"JSON\",country=\"United States\",types=True)"
   ]
  },
  {
   "cell_type": "code",
   "execution_count": 62,
   "metadata": {
    "collapsed": false
   },
   "outputs": [
    {
     "data": {
      "text/plain": [
       "[('116 St - Columbia University, New York, NY 10027, USA',\n",
       "  40.807722,\n",
       "  -73.96410999999999,\n",
       "  ['establishment', 'point_of_interest', 'subway_station', 'transit_station']),\n",
       " ('Schapiro Center, New York, NY 10027, USA',\n",
       "  40.8097368,\n",
       "  -73.9608715,\n",
       "  ['premise'])]"
      ]
     },
     "execution_count": 62,
     "metadata": {},
     "output_type": "execute_result"
    }
   ],
   "source": [
    "get_geolocation_data(\"Columbia University, New York, NY\",format=\"JSON\",country=\"ALL\",types=True)"
   ]
  },
  {
   "cell_type": "code",
   "execution_count": 63,
   "metadata": {
    "collapsed": false
   },
   "outputs": [
    {
     "data": {
      "text/plain": [
       "[('116 St - Columbia University, New York, NY 10027, USA',\n",
       "  40.807722,\n",
       "  -73.96410999999999),\n",
       " ('Schapiro Center, New York, NY 10027, USA', 40.8097368, -73.9608715)]"
      ]
     },
     "execution_count": 63,
     "metadata": {},
     "output_type": "execute_result"
    }
   ],
   "source": [
    "get_geolocation_data(\"Columbia University, New York, NY\",format=\"JSON\",country=\"ALL\",types=False)"
   ]
  },
  {
   "cell_type": "code",
   "execution_count": null,
   "metadata": {
    "collapsed": true
   },
   "outputs": [],
   "source": []
  }
 ],
 "metadata": {
  "anaconda-cloud": {},
  "kernelspec": {
   "display_name": "Python [conda root]",
   "language": "python",
   "name": "conda-root-py"
  },
  "language_info": {
   "codemirror_mode": {
    "name": "ipython",
    "version": 3
   },
   "file_extension": ".py",
   "mimetype": "text/x-python",
   "name": "python",
   "nbconvert_exporter": "python",
   "pygments_lexer": "ipython3",
   "version": "3.5.2"
  }
 },
 "nbformat": 4,
 "nbformat_minor": 0
}
