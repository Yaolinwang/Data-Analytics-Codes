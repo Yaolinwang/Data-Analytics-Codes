{
 "cells": [
  {
   "cell_type": "code",
   "execution_count": 19,
   "metadata": {
    "collapsed": true
   },
   "outputs": [],
   "source": [
    "def google_sector_report():\n",
    "    import requests\n",
    "    from bs4 import BeautifulSoup\n",
    "    url = \"https://www.google.com/finance\"\n",
    "    response = requests.get(url)\n",
    "    page_data = BeautifulSoup(response.content,'lxml')\n",
    "    \n",
    "    json_dump={}\n",
    "    p_change=[]     # change of each sector\n",
    "    for tag_1 in page_data.find_all('div',id='secperf'):\n",
    "        for thing in tag_1.find_all('span'):\n",
    "            p_change.append(thing.text)\n",
    "    \n",
    "    s_url=[]\n",
    "    for tag_1 in page_data.find_all('div',id='secperf'):\n",
    "        for thing in tag_1.find_all('a'):\n",
    "            link = thing.get('href')\n",
    "            link = 'https://www.google.com' + link\n",
    "            s_url.append(link)\n",
    "    \n",
    "    results={}\n",
    "    s_name=[]       # name of each sector\n",
    "\n",
    "    biggest_gainer=[]\n",
    "    biggest_loser=[]\n",
    "    for i in range(len(s_url)):\n",
    "        response = requests.get(s_url[i])\n",
    "        if response.status_code != 200:\n",
    "            json_dump['STATUS']='BAD'\n",
    "            import json\n",
    "            final=json.dumps(json_dump,sort_keys=True)\n",
    "            return final\n",
    "        page_data = BeautifulSoup(response.content,'lxml')\n",
    "\n",
    "        s_data={}\n",
    "        b_g={}\n",
    "        b_l={}\n",
    "        s_data['change']=float(p_change[i][0:-1])     # extract percentage change\n",
    "\n",
    "        for tag in page_data.find_all('div',{\"class\":\"hdg top appbar-hide\"}):\n",
    "            s_name.append(tag.find('h3').text[1:-1])\n",
    "        for tag in page_data.find_all('table',{\"class\":\"topmovers\"}):\n",
    "            c_name=[]\n",
    "            c_change=[]\n",
    "            for thing in tag.find_all('a'):\n",
    "                c_name.append(thing.text)\n",
    "            for thing in tag.find_all('span'):\n",
    "                c_change.append(thing.text)\n",
    "            b_g['change']=float(c_change[1][1:-2])\n",
    "            b_g['equity']=c_name[0]\n",
    "            b_l['change']=float(c_change[11][1:-2])\n",
    "            b_l['equity']=c_name[10]\n",
    "            s_data['biggest_gainer']=b_g\n",
    "            s_data['biggest_loser']=b_l\n",
    "            results[s_name[i]]=s_data\n",
    "    \n",
    "    json_dump['results']=results\n",
    "    json_dump['STATUS']='GOOD'\n",
    "    import json\n",
    "    final=json.dumps(json_dump,sort_keys=False)\n",
    "    return final"
   ]
  },
  {
   "cell_type": "code",
   "execution_count": 20,
   "metadata": {
    "collapsed": false
   },
   "outputs": [
    {
     "data": {
      "text/plain": [
       "'{\"results\": {\"Energy\": {\"change\": 0.47, \"biggest_gainer\": {\"change\": 6.34, \"equity\": \"Contango Oil & Gas Co.\"}, \"biggest_loser\": {\"change\": -10.7, \"equity\": \"CIRCOR Intl., Inc.\"}}, \"Non-Cyclical Consumer Goods & Services\": {\"change\": 0.42, \"biggest_gainer\": {\"change\": -3.92, \"equity\": \"Weight Watchers Intl\"}, \"biggest_loser\": {\"change\": 0.42, \"equity\": \"Procter & Gamble Co\"}}, \"Cyclical Consumer Goods & Services\": {\"change\": -0.27, \"biggest_gainer\": {\"change\": 15.76, \"equity\": \"Zumiez Inc.\"}, \"biggest_loser\": {\"change\": -10.19, \"equity\": \"Cato Corp\"}}, \"Technology\": {\"change\": 0.18, \"biggest_gainer\": {\"change\": 5.92, \"equity\": \"AIXTRON SE (ADR)\"}, \"biggest_loser\": {\"change\": -10.05, \"equity\": \"Park Electrochemical Corp\"}}, \"Healthcare\": {\"change\": -0.63, \"biggest_gainer\": {\"change\": 14.86, \"equity\": \"ICU Medical, Incorporated\"}, \"biggest_loser\": {\"change\": -48.49, \"equity\": \"Alnylam Pharmaceuticals\"}}, \"Telecommunications Services\": {\"change\": -0.53, \"biggest_gainer\": {\"change\": 3.07, \"equity\": \"B Communications Ltd\"}, \"biggest_loser\": {\"change\": -2.81, \"equity\": \"BT Group plc (ADR)\"}}, \"Industrials\": {\"change\": 0.03, \"biggest_gainer\": {\"change\": 633.43, \"equity\": \"LML Payment Systems, Inc.\"}, \"biggest_loser\": {\"change\": -12.63, \"equity\": \"Resources Connection, Inc\"}}, \"Financials\": {\"change\": -0.01, \"biggest_gainer\": {\"change\": 4.64, \"equity\": \"LNB Bancorp Inc\"}, \"biggest_loser\": {\"change\": -7.68, \"equity\": \"United Insurance Hldgs\"}}, \"Basic Materials\": {\"change\": 0.0, \"biggest_gainer\": {\"change\": 4.88, \"equity\": \"US Concrete Inc\"}, \"biggest_loser\": {\"change\": -11.43, \"equity\": \"LSB Industries, Inc.\"}}, \"Utilities\": {\"change\": -0.29, \"biggest_gainer\": {\"change\": 3.44, \"equity\": \"Empresa Distribuidora y\"}, \"biggest_loser\": {\"change\": -3.94, \"equity\": \"Genon Energy Inc\"}}}, \"STATUS\": \"GOOD\"}'"
      ]
     },
     "execution_count": 20,
     "metadata": {},
     "output_type": "execute_result"
    }
   ],
   "source": [
    "google_sector_report()"
   ]
  }
 ],
 "metadata": {
  "kernelspec": {
   "display_name": "Python [conda root]",
   "language": "python",
   "name": "conda-root-py"
  },
  "language_info": {
   "codemirror_mode": {
    "name": "ipython",
    "version": 3
   },
   "file_extension": ".py",
   "mimetype": "text/x-python",
   "name": "python",
   "nbconvert_exporter": "python",
   "pygments_lexer": "ipython3",
   "version": "3.5.2"
  }
 },
 "nbformat": 4,
 "nbformat_minor": 0
}
