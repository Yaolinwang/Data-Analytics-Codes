{
 "cells": [
  {
   "cell_type": "markdown",
   "metadata": {},
   "source": [
    "Jack & Jill sell t-shirts from a street stall on the upper east side.  Given the data below:\n",
    "<ol>\n",
    "<li> write a function run_one() that generates a 30 day profit array for Jack and Jill\n",
    "<li> generate a 1000 X 30 dataframe that contains the 30 day profit arrays from 1000 simulation runs\n",
    "<li> generate a 1000 X 30 dataframe that contains cumulative profits for each run\n",
    "<li> report the following using these two data frames:\n",
    "<ol>\n",
    "<li> the mean and the standard deviation of the average daily profit from all runs\n",
    "<li> the mean and the standard deviation of the cumulative 30 day profit across all runs\n",
    "<li> the mean and the standard deviation of the lowest profit (greatest loss) from each run\n",
    "<li> the mean and the standard deviation of the highest profit from each run\n",
    "<li> the average cumulative profit for each day across runs (i.e., the average of the two day cumulative profit, average of the three day cumulative profit, etc.\n",
    "<li> a line graph of the average cumulative profits for each day with day on the x-axis and average profit on the y-axis\n",
    "</ol>\n",
    "</ol>"
   ]
  },
  {
   "cell_type": "code",
   "execution_count": 66,
   "metadata": {
    "collapsed": true
   },
   "outputs": [],
   "source": [
    "unit_cost = 2 #What Jack and Jill pay a Shenzen based company for each t-shirt\n",
    "unit_price = 5 #The selling price of each t-shirt\n",
    "unit_storage_cost = 0.10  #The daily cost of storing one t-shirt overnight in inventory\n",
    "shipping_days_mean = 5 #The average number of days it takes a shipment to arrive from Shenzen\n",
    "shipping_days_std =2.2 #The standard deviation of shipping days. Assume normal distribution\n",
    "sales_mean = 1000 #The average number of shirts sold on a given day\n",
    "sales_std = 523 #The standard deviation of daily sales. Assume normal distribution\n",
    "inventory = 5001 #The starting inventory\n",
    "reorder_level = 5000 #The level at or below which Jack and Jill will place an order. \n",
    "order_qty = 5000 #The amount of an order. Note that when ordering, they will look at the inventory level plus \n",
    "order_not_deliverd=0 #the amount ordered but not yet delivered"
   ]
  },
  {
   "cell_type": "code",
   "execution_count": 1,
   "metadata": {
    "collapsed": false
   },
   "outputs": [],
   "source": [
    "import matplotlib as mlt\n",
    "import pandas as pd\n",
    "import numpy as np\n",
    "import matplotlib.pyplot as plt\n",
    "%matplotlib inline"
   ]
  },
  {
   "cell_type": "markdown",
   "metadata": {},
   "source": [
    "## function run_one() that generates a 30 day profit array for Jack and Jill"
   ]
  },
  {
   "cell_type": "code",
   "execution_count": 2,
   "metadata": {
    "collapsed": false
   },
   "outputs": [],
   "source": [
    "def run_one():\n",
    "    unit_cost = 2 #What Jack and Jill pay a Shenzen based company for each t-shirt\n",
    "    unit_price = 5 #The selling price of each t-shirt\n",
    "    unit_storage_cost = 0.10  #The daily cost of storing one t-shirt overnight in inventory\n",
    "    shipping_days_mean = 5 #The average number of days it takes a shipment to arrive from Shenzen\n",
    "    shipping_days_std =2.2 #The standard deviation of shipping days. Assume normal distribution\n",
    "    sales_mean = 1000 #The average number of shirts sold on a given day\n",
    "    sales_std = 523 #The standard deviation of daily sales. Assume normal distribution\n",
    "    inventory = 5001 #The starting inventory\n",
    "    reorder_level = 5000 #The level at or below which Jack and Jill will place an order. \n",
    "    order_qty = 5000 #The amount of an order. Note that when ordering, they will look at the inventory level plus \n",
    "    order_not_deliverd=0 #the amount ordered but not yet delivered\n",
    "    profits_30=[] # profits in 30 days\n",
    "    reorderd_data=0 # record reorderd date\n",
    "    x=0\n",
    "    shipping_days=0\n",
    "\n",
    "    for t in range(30):\n",
    "        \n",
    "        sales=int(np.random.normal(sales_mean, sales_std, 1)[0])\n",
    "        if sales<0:\n",
    "            sales=0\n",
    "        actual_sales=min(inventory,sales)\n",
    "        inventory=inventory-actual_sales\n",
    "        dilivery_fee=0\n",
    "        \n",
    "        if (inventory + order_not_deliverd) < reorder_level:\n",
    "            x=int(np.random.normal(shipping_days_mean, shipping_days_std, 1)[0])       \n",
    "            order_not_deliverd=order_qty\n",
    "            reorderd_data=t\n",
    "            #print(inventory,inventory + order_not_deliverd)\n",
    "            shipping_days=x\n",
    "        \n",
    "        if t == (reorderd_data+shipping_days):\n",
    "            inventory+=order_not_deliverd\n",
    "            order_not_deliverd=0\n",
    "            dilivery_fee=5000*unit_cost\n",
    "\n",
    "        profits=(unit_price*actual_sales)-((inventory-actual_sales)*unit_storage_cost)-dilivery_fee\n",
    "        profits_30.append(profits)\n",
    "    return np.asarray(profits_30)"
   ]
  },
  {
   "cell_type": "markdown",
   "metadata": {},
   "source": [
    "## generate a 1000 X 30 dataframe that contains the 30 day profit arrays from 1000 simulation runs\n",
    "## generate a 1000 X 30 dataframe that contains cumulative profits for each run"
   ]
  },
  {
   "cell_type": "code",
   "execution_count": 3,
   "metadata": {
    "collapsed": false
   },
   "outputs": [],
   "source": [
    "df_profits=pd.DataFrame({})\n",
    "df_cumulative_profits=pd.DataFrame({})\n",
    "for i in range(1000):\n",
    "    return_perday=run_one()\n",
    "    df_profits[\"Run_\"+str(i)]=return_perday\n",
    "    for j in range(1,len(return_perday)):\n",
    "        return_perday[j]=return_perday[j]+return_perday[j-1]\n",
    "        df_cumulative_profits[\"Run_\"+str(i)]=return_perday\n",
    "profit_30_days=df_profits.transpose().copy()\n",
    "cumulative_profits=df_cumulative_profits.transpose().copy()"
   ]
  },
  {
   "cell_type": "markdown",
   "metadata": {},
   "source": [
    "## A. the mean and the standard deviation of the average daily profit from all runs"
   ]
  },
  {
   "cell_type": "code",
   "execution_count": 4,
   "metadata": {
    "collapsed": false
   },
   "outputs": [
    {
     "name": "stdout",
     "output_type": "stream",
     "text": [
      "('the mean of the average daily profit from all runs:', 2336.0249433333333)\n",
      "('the standard deviation of the average daily profit from all runs:', 349.44437618758457)\n"
     ]
    }
   ],
   "source": [
    "average_daily_profit=np.zeros(1000)\n",
    "for i in range(1000):\n",
    "    average_daily_profit[i]=np.mean(df_profits[\"Run_\"+str(i)])\n",
    "print(\"the mean of the average daily profit from all runs:\",np.mean(average_daily_profit))\n",
    "print(\"the standard deviation of the average daily profit from all runs:\",np.std(average_daily_profit))"
   ]
  },
  {
   "cell_type": "markdown",
   "metadata": {},
   "source": [
    "## B. the mean and the standard deviation of the cumulative 30 day profit across all runs"
   ]
  },
  {
   "cell_type": "code",
   "execution_count": 5,
   "metadata": {
    "collapsed": false
   },
   "outputs": [
    {
     "name": "stdout",
     "output_type": "stream",
     "text": [
      "('the mean of the cumulative 30 day profit from all runs:', 70080.748300000007)\n",
      "('the standard deviation of the cumulative 30 day profit from all runs:', 10483.331285627537)\n"
     ]
    }
   ],
   "source": [
    "cumulative_30_day_profit=np.zeros(1000)\n",
    "for i in range(1000):\n",
    "    cumulative_30_day_profit[i]=df_cumulative_profits[\"Run_\"+str(i)][29]\n",
    "print(\"the mean of the cumulative 30 day profit from all runs:\",np.mean(cumulative_30_day_profit))\n",
    "print(\"the standard deviation of the cumulative 30 day profit from all runs:\",np.std(cumulative_30_day_profit))"
   ]
  },
  {
   "cell_type": "markdown",
   "metadata": {},
   "source": [
    "## C.the mean and the standard deviation of the lowest profit (greatest loss) from each run"
   ]
  },
  {
   "cell_type": "code",
   "execution_count": 6,
   "metadata": {
    "collapsed": false
   },
   "outputs": [
    {
     "name": "stdout",
     "output_type": "stream",
     "text": [
      "('the mean of the lowest profit from all runs:', -10336.507399999999)\n",
      "('the standard deviation of the lowest profit from all runs:', 1012.0045300319758)\n"
     ]
    }
   ],
   "source": [
    "lowest_profit=np.zeros(1000)\n",
    "for i in range(1000):\n",
    "    lowest_profit[i]=min(df_profits[\"Run_\"+str(i)])\n",
    "print(\"the mean of the lowest profit from all runs:\",np.mean(lowest_profit))\n",
    "print(\"the standard deviation of the lowest profit from all runs:\",np.std(lowest_profit))"
   ]
  },
  {
   "cell_type": "markdown",
   "metadata": {},
   "source": [
    "## D.the mean and the standard deviation of the highest profit from each run"
   ]
  },
  {
   "cell_type": "code",
   "execution_count": 7,
   "metadata": {
    "collapsed": false
   },
   "outputs": [
    {
     "name": "stdout",
     "output_type": "stream",
     "text": [
      "('the mean of the highest profit from all runs:', 9820.755799999999)\n",
      "('the standard deviation of the highest profit from all runs:', 1379.9192558720094)\n"
     ]
    }
   ],
   "source": [
    "highest_profit=np.zeros(1000)\n",
    "for i in range(1000):\n",
    "    highest_profit[i]=max(df_profits[\"Run_\"+str(i)])\n",
    "print(\"the mean of the highest profit from all runs:\",np.mean(highest_profit))\n",
    "print(\"the standard deviation of the highest profit from all runs:\",np.std(highest_profit))"
   ]
  },
  {
   "cell_type": "markdown",
   "metadata": {},
   "source": [
    "## E. the average cumulative profit for each day across runs \n",
    "(i.e., the average of the two day cumulative profit, average of the three day cumulative profit, etc."
   ]
  },
  {
   "cell_type": "code",
   "execution_count": 8,
   "metadata": {
    "collapsed": false
   },
   "outputs": [
    {
     "data": {
      "text/html": [
       "<div>\n",
       "<table border=\"1\" class=\"dataframe\">\n",
       "  <thead>\n",
       "    <tr style=\"text-align: right;\">\n",
       "      <th></th>\n",
       "      <th>average_cumulative_profit</th>\n",
       "    </tr>\n",
       "  </thead>\n",
       "  <tbody>\n",
       "    <tr>\n",
       "      <th>1Days</th>\n",
       "      <td>4047.6644</td>\n",
       "    </tr>\n",
       "    <tr>\n",
       "      <th>2Days</th>\n",
       "      <td>8463.6939</td>\n",
       "    </tr>\n",
       "    <tr>\n",
       "      <th>3Days</th>\n",
       "      <td>12469.6501</td>\n",
       "    </tr>\n",
       "    <tr>\n",
       "      <th>4Days</th>\n",
       "      <td>15268.9569</td>\n",
       "    </tr>\n",
       "    <tr>\n",
       "      <th>5Days</th>\n",
       "      <td>17055.6915</td>\n",
       "    </tr>\n",
       "    <tr>\n",
       "      <th>6Days</th>\n",
       "      <td>18104.9636</td>\n",
       "    </tr>\n",
       "    <tr>\n",
       "      <th>7Days</th>\n",
       "      <td>19722.9948</td>\n",
       "    </tr>\n",
       "    <tr>\n",
       "      <th>8Days</th>\n",
       "      <td>21924.0426</td>\n",
       "    </tr>\n",
       "    <tr>\n",
       "      <th>9Days</th>\n",
       "      <td>24623.2447</td>\n",
       "    </tr>\n",
       "    <tr>\n",
       "      <th>10Days</th>\n",
       "      <td>26889.9625</td>\n",
       "    </tr>\n",
       "    <tr>\n",
       "      <th>11Days</th>\n",
       "      <td>28780.2985</td>\n",
       "    </tr>\n",
       "    <tr>\n",
       "      <th>12Days</th>\n",
       "      <td>31083.0486</td>\n",
       "    </tr>\n",
       "    <tr>\n",
       "      <th>13Days</th>\n",
       "      <td>33038.4489</td>\n",
       "    </tr>\n",
       "    <tr>\n",
       "      <th>14Days</th>\n",
       "      <td>35403.9602</td>\n",
       "    </tr>\n",
       "    <tr>\n",
       "      <th>15Days</th>\n",
       "      <td>37608.5921</td>\n",
       "    </tr>\n",
       "    <tr>\n",
       "      <th>16Days</th>\n",
       "      <td>40008.6128</td>\n",
       "    </tr>\n",
       "    <tr>\n",
       "      <th>17Days</th>\n",
       "      <td>41798.3134</td>\n",
       "    </tr>\n",
       "    <tr>\n",
       "      <th>18Days</th>\n",
       "      <td>43928.1772</td>\n",
       "    </tr>\n",
       "    <tr>\n",
       "      <th>19Days</th>\n",
       "      <td>45934.1295</td>\n",
       "    </tr>\n",
       "    <tr>\n",
       "      <th>20Days</th>\n",
       "      <td>48042.8364</td>\n",
       "    </tr>\n",
       "    <tr>\n",
       "      <th>21Days</th>\n",
       "      <td>50351.3032</td>\n",
       "    </tr>\n",
       "    <tr>\n",
       "      <th>22Days</th>\n",
       "      <td>52613.9926</td>\n",
       "    </tr>\n",
       "    <tr>\n",
       "      <th>23Days</th>\n",
       "      <td>54887.9514</td>\n",
       "    </tr>\n",
       "    <tr>\n",
       "      <th>24Days</th>\n",
       "      <td>57330.7771</td>\n",
       "    </tr>\n",
       "    <tr>\n",
       "      <th>25Days</th>\n",
       "      <td>59366.3383</td>\n",
       "    </tr>\n",
       "    <tr>\n",
       "      <th>26Days</th>\n",
       "      <td>61531.0629</td>\n",
       "    </tr>\n",
       "    <tr>\n",
       "      <th>27Days</th>\n",
       "      <td>63453.8254</td>\n",
       "    </tr>\n",
       "    <tr>\n",
       "      <th>28Days</th>\n",
       "      <td>65586.7073</td>\n",
       "    </tr>\n",
       "    <tr>\n",
       "      <th>29Days</th>\n",
       "      <td>67916.1243</td>\n",
       "    </tr>\n",
       "    <tr>\n",
       "      <th>30Days</th>\n",
       "      <td>70080.7483</td>\n",
       "    </tr>\n",
       "  </tbody>\n",
       "</table>\n",
       "</div>"
      ],
      "text/plain": [
       "        average_cumulative_profit\n",
       "1Days                   4047.6644\n",
       "2Days                   8463.6939\n",
       "3Days                  12469.6501\n",
       "4Days                  15268.9569\n",
       "5Days                  17055.6915\n",
       "6Days                  18104.9636\n",
       "7Days                  19722.9948\n",
       "8Days                  21924.0426\n",
       "9Days                  24623.2447\n",
       "10Days                 26889.9625\n",
       "11Days                 28780.2985\n",
       "12Days                 31083.0486\n",
       "13Days                 33038.4489\n",
       "14Days                 35403.9602\n",
       "15Days                 37608.5921\n",
       "16Days                 40008.6128\n",
       "17Days                 41798.3134\n",
       "18Days                 43928.1772\n",
       "19Days                 45934.1295\n",
       "20Days                 48042.8364\n",
       "21Days                 50351.3032\n",
       "22Days                 52613.9926\n",
       "23Days                 54887.9514\n",
       "24Days                 57330.7771\n",
       "25Days                 59366.3383\n",
       "26Days                 61531.0629\n",
       "27Days                 63453.8254\n",
       "28Days                 65586.7073\n",
       "29Days                 67916.1243\n",
       "30Days                 70080.7483"
      ]
     },
     "execution_count": 8,
     "metadata": {},
     "output_type": "execute_result"
    }
   ],
   "source": [
    "average_cumulative_profit_per=[]\n",
    "date=[]\n",
    "for k in range(30):\n",
    "    average_cumulative_profit_per.append(np.mean(df_cumulative_profits.iloc[k]))\n",
    "average_cumulative_profit=pd.DataFrame({})\n",
    "average_cumulative_profit[\"average_cumulative_profit\"]=average_cumulative_profit_per\n",
    "for i in range(1,31):\n",
    "    date.append(str(i)+\"Days\")\n",
    "average_cumulative_profit.index=date\n",
    "average_cumulative_profit"
   ]
  },
  {
   "cell_type": "markdown",
   "metadata": {},
   "source": [
    "## F. a line graph of the average cumulative profits for each day with day on the x-axis and average profit on the y-axis"
   ]
  },
  {
   "cell_type": "code",
   "execution_count": 10,
   "metadata": {
    "collapsed": false
   },
   "outputs": [
    {
     "data": {
      "text/plain": [
       "<matplotlib.text.Text at 0x983cb00>"
      ]
     },
     "execution_count": 10,
     "metadata": {},
     "output_type": "execute_result"
    },
    {
     "data": {
      "image/png": "[encoded data removed]",
      "text/plain": [
       "<matplotlib.figure.Figure at 0x95cbe48>"
      ]
     },
     "metadata": {},
     "output_type": "display_data"
    }
   ],
   "source": [
    "x=range(1,31)\n",
    "y=average_cumulative_profit[\"average_cumulative_profit\"]\n",
    "plt.plot(x,y,\"-b\")\n",
    "plt.ylabel(\"Average Cumulative Profit\")\n",
    "plt.xlabel(\"Days\")"
   ]
  },
  {
   "cell_type": "code",
   "execution_count": null,
   "metadata": {
    "collapsed": true
   },
   "outputs": [],
   "source": []
  }
 ],
 "metadata": {
  "anaconda-cloud": {},
  "kernelspec": {
   "display_name": "Python [default]",
   "language": "python",
   "name": "python2"
  },
  "language_info": {
   "codemirror_mode": {
    "name": "ipython",
    "version": 2
   },
   "file_extension": ".py",
   "mimetype": "text/x-python",
   "name": "python",
   "nbconvert_exporter": "python",
   "pygments_lexer": "ipython2",
   "version": "2.7.12"
  }
 },
 "nbformat": 4,
 "nbformat_minor": 0
}
