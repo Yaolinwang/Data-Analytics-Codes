{
 "cells": [
  {
   "cell_type": "code",
   "execution_count": null,
   "metadata": {
    "collapsed": true
   },
   "outputs": [],
   "source": [
    "#client.drop_database(\"stockDB\")"
   ]
  },
  {
   "cell_type": "code",
   "execution_count": 13,
   "metadata": {
    "collapsed": true
   },
   "outputs": [],
   "source": [
    "#function that grabs sector change data from google finance\n",
    "import requests\n",
    "from bs4 import BeautifulSoup\n",
    "\n",
    "# function used to find biggest_gainer within a certain sector\n",
    "def gainer(url):\n",
    "    gainer={'change': '', 'equity': ''}\n",
    "    response=requests.get(url)\n",
    "    sec_page=BeautifulSoup(response.content, 'lxml')\n",
    "    table=sec_page.find('table', class_='topmovers')\n",
    "    \n",
    "    for tr in table.find_all('tr'):\n",
    "        if tr.find('a'):\n",
    "            gainer['equity'] = tr.find('a').get_text()\n",
    "        if tr.find('span'):\n",
    "            tag=tr.find('span')\n",
    "            thing=tag.get_text()\n",
    "            gainer['change'] = float(thing)\n",
    "            break\n",
    "            \n",
    "    if gainer['change']<0:\n",
    "        gainer={}\n",
    "    return gainer\n",
    "\n",
    "# function used to find biggest_loser within a certain sector\n",
    "def loser(url):\n",
    "    loser = {'change': '', 'equity': ''}\n",
    "    response = requests.get(url)\n",
    "    sec_page = BeautifulSoup(response.content, 'lxml')\n",
    "    whole_table = sec_page.find('table', class_='topmovers')\n",
    "    \n",
    "    table = whole_table.find('tr', class_='beginsec').next_sibling\n",
    "    loser['equity'] = table.find('a').get_text()\n",
    "    thing = table.find('span').get_text()\n",
    "    loser['change'] = float(thing)\n",
    "    return(loser)\n",
    "\n",
    "# function used to report the whole market\n",
    "def google_sector_report():\n",
    "    import requests\n",
    "    from bs4 import BeautifulSoup\n",
    "    import json\n",
    "\n",
    "    url='https://www.google.com/finance'\n",
    "    status='BAD'\n",
    "    report={'status': status}\n",
    "    result=dict()\n",
    "    response=requests.get(url)\n",
    "    main_page=BeautifulSoup(response.content, 'lxml')\n",
    "    div=main_page.find('div', {'id': 'secperf'})\n",
    "\n",
    "    for tr in div.find_all('tr'):\n",
    "        if tr.find('a'):\n",
    "            sec_name=tr.find('a').get_text()\n",
    "            if sec_name=='Cyclical Cons. Goods ...':\n",
    "                sec_name = 'Cyclical Cons Goods'\n",
    "            if sec_name=='Non-Cyclical Cons. Goods...':\n",
    "                sec_name = 'Non-Cyclical Cons Goods'\n",
    "            if sec_name=='Telecommunications Servi...':\n",
    "                sec_name = 'Telecommunications Servi'\n",
    "            sec_link='https://www.google.com' + tr.find('a').get('href')\n",
    "            sec_gainer=gainer(sec_link)\n",
    "            sec_loser=loser(sec_link)\n",
    "\n",
    "            new_sec={sec_name: {'change': '', 'biggest_gainer':sec_gainer, 'biggest_loser':sec_loser}}\n",
    "            result.update(new_sec)\n",
    "\n",
    "        if tr.find('span'):\n",
    "            sec_change=tr.find('span').get_text()\n",
    "            sec_change=float(sec_change.strip('%'))\n",
    "\n",
    "            result[sec_name]['change']=sec_change\n",
    "            \n",
    "    status='GOOD'\n",
    "    report={'status': status, 'result': result}\n",
    "    json_report = json.dumps(report)\n",
    "    return(json_report)"
   ]
  },
  {
   "cell_type": "code",
   "execution_count": 14,
   "metadata": {
    "collapsed": false
   },
   "outputs": [],
   "source": [
    "#saving the JSON object (only the result part) in a file \n",
    "import json\n",
    "from datetime import datetime\n",
    "\n",
    "d = datetime.today()\n",
    "d = d.strftime('%Y-%m-%d')\n",
    "\n",
    "with open(d+'.txt', 'w') as f:\n",
    "    today = json.loads(google_sector_report())\n",
    "    today = today['result']\n",
    "    date_field = {\"date\":d}   #add an additional date field\n",
    "    today.update(date_field)\n",
    "    today = json.dumps(today)\n",
    "    f.write(today)"
   ]
  },
  {
   "cell_type": "markdown",
   "metadata": {},
   "source": [
    "run mongod.exe"
   ]
  },
  {
   "cell_type": "code",
   "execution_count": 15,
   "metadata": {
    "collapsed": true
   },
   "outputs": [],
   "source": [
    "# Creat MongoDB collection named stock\n",
    "from pymongo import MongoClient\n",
    "client = MongoClient('127.0.0.1', 27017)\n",
    "db = client.stockDB\n",
    "stock = db.s"
   ]
  },
  {
   "cell_type": "code",
   "execution_count": 16,
   "metadata": {
    "collapsed": false
   },
   "outputs": [
    {
     "data": {
      "text/plain": [
       "<pymongo.results.InsertOneResult at 0x395ec10>"
      ]
     },
     "execution_count": 16,
     "metadata": {},
     "output_type": "execute_result"
    }
   ],
   "source": [
    "#stores the data \n",
    "import json\n",
    "with open('2016-11-10.txt', 'r') as f:\n",
    "    data = json.loads(f.read())\n",
    "stock.insert_one(data)\n",
    "\n",
    "with open('2016-11-11.txt', 'r') as f:\n",
    "    data = json.loads(f.read())\n",
    "stock.insert_one(data)\n",
    "\n",
    "with open('2016-11-12.txt', 'r') as f:\n",
    "    data = json.loads(f.read())\n",
    "stock.insert_one(data)"
   ]
  },
  {
   "cell_type": "code",
   "execution_count": 17,
   "metadata": {
    "collapsed": false
   },
   "outputs": [
    {
     "data": {
      "text/plain": [
       "<pymongo.results.InsertOneResult at 0x68df800>"
      ]
     },
     "execution_count": 17,
     "metadata": {},
     "output_type": "execute_result"
    }
   ],
   "source": [
    "#function that updates the collection as new data arrives\n",
    "import json\n",
    "today = json.loads(google_sector_report())\n",
    "today = today['result']\n",
    "\n",
    "from datetime import datetime\n",
    "d = datetime.today()\n",
    "d = d.strftime('%Y-%m-%d')\n",
    "date_field = {\"date\":d}\n",
    "today.update(date_field)\n",
    "\n",
    "stock.insert_one(today)"
   ]
  },
  {
   "cell_type": "code",
   "execution_count": 19,
   "metadata": {
    "collapsed": false
   },
   "outputs": [
    {
     "name": "stdout",
     "output_type": "stream",
     "text": [
      "'2016-11-10'\n",
      "'2016-11-11'\n",
      "'2016-11-12'\n",
      "'2016-11-14'\n"
     ]
    }
   ],
   "source": [
    "#show the collection \n",
    "from pprint import pprint\n",
    "\n",
    "for daily_data in stock.find():\n",
    "    pprint(daily_data['date'])"
   ]
  },
  {
   "cell_type": "code",
   "execution_count": 20,
   "metadata": {
    "collapsed": false
   },
   "outputs": [],
   "source": [
    "#interface object: stock_analysis\n",
    "class stock_analysis:\n",
    "\n",
    "    def __init__(self):\n",
    "        def get_sec_list(sector):\n",
    "            l = []\n",
    "            for daily_data in stock.find():\n",
    "                change = daily_data[sector]['change']\n",
    "                date = daily_data['date']\n",
    "                l.append((date,change))\n",
    "            return l \n",
    "        #self.sec_list = get_sec_list(sector)\n",
    "    \n",
    "    def daily_sec_max(self, date):\n",
    "        from operator import itemgetter\n",
    "        daily_data = stock.find_one({\"date\": date})\n",
    "\n",
    "        d=dict()\n",
    "        for sector in daily_data:\n",
    "            if sector != '_id' and sector != 'date': \n",
    "                sector_move = abs(daily_data[sector]['change'])\n",
    "                d[sector] = sector_move\n",
    "        return(sorted(d.items(),key = itemgetter(1), reverse = True)[0])\n",
    "    \n",
    "    def sec_max_ever(self):\n",
    "        from operator import itemgetter\n",
    "        d=dict()\n",
    "        for daily_data in stock.find():\n",
    "            for sector in daily_data:\n",
    "                if sector != '_id' and sector != 'date':\n",
    "                    d[sector] = 0\n",
    "\n",
    "            if d:\n",
    "                break\n",
    "\n",
    "        for daily_data in stock.find():\n",
    "            for sector in daily_data:\n",
    "                if sector != '_id' and sector != 'date':\n",
    "                    daily_sec_move = abs(daily_data[sector]['change'])\n",
    "                    if daily_sec_move > d[sector]:\n",
    "                        d[sector]=daily_sec_move\n",
    "        return(sorted(d.items(), key = itemgetter(1), reverse = True)[0])\n",
    "    \n",
    "    def daily_stock_max(self, date):\n",
    "        from operator import itemgetter\n",
    "        test_data = stock.find_one({\"date\": date})\n",
    "        move_list={}\n",
    "        for key in test_data:\n",
    "            if key != '_id' and key != 'date':\n",
    "                try:\n",
    "                    a=test_data[key]['biggest_gainer']['change']\n",
    "                    try:\n",
    "                        b=abs(test_data[key]['biggest_loser']['change'])\n",
    "                        move_list[test_data[key]['biggest_loser']['equity']]=max(a,b)\n",
    "                    except:\n",
    "                        move_list[test_data[key]['biggest_loser']['equity']]=a\n",
    "                except:\n",
    "                    try:\n",
    "                        b=abs(test_data[key]['biggest_loser']['change'])\n",
    "                        move_list[test_data[key]['biggest_loser']['equity']]=b\n",
    "                    except:\n",
    "                        continue\n",
    "        sorted_list=sorted(move_list.items(), key=itemgetter(1),reverse=True)\n",
    "        return sorted_list[0]\n",
    "    \n",
    "    def stock_max_ever(self):\n",
    "        from operator import itemgetter\n",
    "        move_list={}\n",
    "        for date in stock.find():\n",
    "            test_data = date\n",
    "            for key in test_data:\n",
    "                if key != '_id' and key != 'date':\n",
    "                    try:\n",
    "                        a=test_data[key]['biggest_gainer']['change']\n",
    "                        try:\n",
    "                            b=abs(test_data[key]['biggest_loser']['change'])\n",
    "                            move_list[test_data[key]['biggest_loser']['equity']]=max(a,b)\n",
    "                        except:\n",
    "                            move_list[test_data[key]['biggest_loser']['equity']]=a\n",
    "                    except:\n",
    "                        try:\n",
    "                            b=abs(test_data[key]['biggest_loser']['change'])\n",
    "                            move_list[test_data[key]['biggest_loser']['equity']]=b\n",
    "                        except:\n",
    "                            continue\n",
    "\n",
    "        sorted_list=sorted(move_list.items(), key=itemgetter(1),reverse=True)\n",
    "        return sorted_list[0]\n",
    "    \n",
    "    def get_sec_list(self, sector):\n",
    "        l = []\n",
    "        for daily_data in stock.find():\n",
    "            change = daily_data[sector]['change']\n",
    "            date = daily_data['date']\n",
    "            l.append((date,change))\n",
    "        return l \n",
    "    #average change for a given sector\n",
    "    def sec_move_avg(self, sector):\n",
    "        l1 = self.get_sec_list(sector)\n",
    "        l2 = []\n",
    "        for x in l1:\n",
    "            l2.append(x[1])\n",
    "        return sum(l2)/len(l2)\n",
    "    #standard deviation of change for a given sector \n",
    "    def sec_move_stdev(self, sector):\n",
    "        import statistics\n",
    "        l1 = self.get_sec_list(sector)\n",
    "        l2 = []\n",
    "        for x in l1:\n",
    "            l2.append(x[1])\n",
    "        return(statistics.stdev(l2))\n",
    "    #cumulative(compounded) movement for a given sector\n",
    "    def sec_move_cum(self, sector):\n",
    "        l1 = self.get_sec_list(sector)\n",
    "        cum_change = 1\n",
    "        for x in l1:\n",
    "            cum_change = cum_change*(1+x[1]/100)\n",
    "        cum_change = (cum_change-1)*100\n",
    "        return(cum_change)\n",
    "    #greatest daily movement for a given sector\n",
    "    def sec_move_max(self, sector):\n",
    "        from operator import itemgetter\n",
    "        l1 = self.get_sec_list(sector)\n",
    "        l2 = sorted(l1, key=itemgetter(1),reverse=True)\n",
    "        return(l2[0])"
   ]
  },
  {
   "cell_type": "code",
   "execution_count": 21,
   "metadata": {
    "collapsed": false
   },
   "outputs": [
    {
     "data": {
      "text/plain": [
       "('Energy', 1.99)"
      ]
     },
     "execution_count": 21,
     "metadata": {},
     "output_type": "execute_result"
    }
   ],
   "source": [
    "#class instantiation\n",
    "s=stock_analysis()\n",
    "#A\n",
    "s.daily_sec_max('2016-11-11')"
   ]
  },
  {
   "cell_type": "code",
   "execution_count": 22,
   "metadata": {
    "collapsed": false
   },
   "outputs": [
    {
     "data": {
      "text/plain": [
       "('Non-Cyclical Cons Goods', 2.39)"
      ]
     },
     "execution_count": 22,
     "metadata": {},
     "output_type": "execute_result"
    }
   ],
   "source": [
    "#B\n",
    "s.sec_max_ever()"
   ]
  },
  {
   "cell_type": "code",
   "execution_count": 23,
   "metadata": {
    "collapsed": false
   },
   "outputs": [
    {
     "data": {
      "text/plain": [
       "('Photronics, Inc.', 21.79)"
      ]
     },
     "execution_count": 23,
     "metadata": {},
     "output_type": "execute_result"
    }
   ],
   "source": [
    "#C\n",
    "s.daily_stock_max('2016-11-11')"
   ]
  },
  {
   "cell_type": "code",
   "execution_count": 24,
   "metadata": {
    "collapsed": false
   },
   "outputs": [
    {
     "data": {
      "text/plain": [
       "('Empire Resorts Inc', 22.07)"
      ]
     },
     "execution_count": 24,
     "metadata": {},
     "output_type": "execute_result"
    }
   ],
   "source": [
    "#D\n",
    "s.stock_max_ever()"
   ]
  },
  {
   "cell_type": "code",
   "execution_count": 25,
   "metadata": {
    "collapsed": false
   },
   "outputs": [
    {
     "data": {
      "text/plain": [
       "[('2016-11-10', -0.34),\n",
       " ('2016-11-11', -1.99),\n",
       " ('2016-11-12', -1.81),\n",
       " ('2016-11-14', 0.04)]"
      ]
     },
     "execution_count": 25,
     "metadata": {},
     "output_type": "execute_result"
    }
   ],
   "source": [
    "#E\n",
    "s.get_sec_list('Energy') "
   ]
  },
  {
   "cell_type": "code",
   "execution_count": 26,
   "metadata": {
    "collapsed": false
   },
   "outputs": [
    {
     "data": {
      "text/plain": [
       "0.5575000000000001"
      ]
     },
     "execution_count": 26,
     "metadata": {},
     "output_type": "execute_result"
    }
   ],
   "source": [
    "#F 4 other questions to this list\n",
    "#average change for a given sector\n",
    "s.sec_move_avg('Industrials')"
   ]
  },
  {
   "cell_type": "code",
   "execution_count": 27,
   "metadata": {
    "collapsed": false
   },
   "outputs": [
    {
     "data": {
      "text/plain": [
       "0.9442280797914593"
      ]
     },
     "execution_count": 27,
     "metadata": {},
     "output_type": "execute_result"
    }
   ],
   "source": [
    "#standard deviation of change for a given sector\n",
    "s.sec_move_stdev('Utilities')"
   ]
  },
  {
   "cell_type": "code",
   "execution_count": 28,
   "metadata": {
    "collapsed": false
   },
   "outputs": [
    {
     "data": {
      "text/plain": [
       "2.244209546979481"
      ]
     },
     "execution_count": 28,
     "metadata": {},
     "output_type": "execute_result"
    }
   ],
   "source": [
    "#cumulative movement for a given sector\n",
    "s.sec_move_cum('Industrials')"
   ]
  },
  {
   "cell_type": "code",
   "execution_count": 29,
   "metadata": {
    "collapsed": false
   },
   "outputs": [
    {
     "data": {
      "text/plain": [
       "('2016-11-10', 1.35)"
      ]
     },
     "execution_count": 29,
     "metadata": {},
     "output_type": "execute_result"
    }
   ],
   "source": [
    "#greatest daily movement for a given sector\n",
    "s.sec_move_max('Industrials')"
   ]
  },
  {
   "cell_type": "code",
   "execution_count": null,
   "metadata": {
    "collapsed": true
   },
   "outputs": [],
   "source": []
  }
 ],
 "metadata": {
  "anaconda-cloud": {},
  "kernelspec": {
   "display_name": "Python [conda root]",
   "language": "python",
   "name": "conda-root-py"
  },
  "language_info": {
   "codemirror_mode": {
    "name": "ipython",
    "version": 3
   },
   "file_extension": ".py",
   "mimetype": "text/x-python",
   "name": "python",
   "nbconvert_exporter": "python",
   "pygments_lexer": "ipython3",
   "version": "3.5.2"
  }
 },
 "nbformat": 4,
 "nbformat_minor": 0
}
